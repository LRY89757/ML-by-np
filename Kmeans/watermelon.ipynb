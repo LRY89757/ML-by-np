{
 "cells": [
  {
   "cell_type": "code",
   "execution_count": 1,
   "metadata": {},
   "outputs": [],
   "source": [
    "%matplotlib inline\n",
    "import matplotlib.pyplot as plt\n",
    "from watermelon import WATERMELON\n",
    "import numpy as np\n",
    "import random"
   ]
  },
  {
   "cell_type": "code",
   "execution_count": 2,
   "metadata": {},
   "outputs": [
    {
     "data": {
      "text/plain": [
       "{'divide': 'warn', 'over': 'warn', 'under': 'ignore', 'invalid': 'warn'}"
      ]
     },
     "execution_count": 2,
     "metadata": {},
     "output_type": "execute_result"
    }
   ],
   "source": [
    "# 读取数据\n",
    "root = \"./\"\n",
    "path = 'watermelon.csv'\n",
    "dataset = WATERMELON(root,path)\n",
    "data = dataset.data\n",
    "np.seterr(divide='ignore', invalid='ignore')"
   ]
  },
  {
   "cell_type": "code",
   "execution_count": 3,
   "metadata": {},
   "outputs": [
    {
     "data": {
      "text/plain": [
       "array([[0.697, 0.46 ],\n",
       "       [0.774, 0.376],\n",
       "       [0.634, 0.264],\n",
       "       [0.608, 0.318],\n",
       "       [0.556, 0.215],\n",
       "       [0.403, 0.237],\n",
       "       [0.481, 0.149],\n",
       "       [0.666, 0.091],\n",
       "       [0.437, 0.211],\n",
       "       [0.666, 0.091],\n",
       "       [0.243, 0.267],\n",
       "       [0.245, 0.057],\n",
       "       [0.343, 0.099],\n",
       "       [0.639, 0.161],\n",
       "       [0.657, 0.198],\n",
       "       [0.36 , 0.37 ],\n",
       "       [0.593, 0.042],\n",
       "       [0.719, 0.103],\n",
       "       [0.359, 0.188],\n",
       "       [0.339, 0.241],\n",
       "       [0.282, 0.257],\n",
       "       [0.748, 0.232],\n",
       "       [0.714, 0.346],\n",
       "       [0.483, 0.312],\n",
       "       [0.478, 0.437],\n",
       "       [0.525, 0.369],\n",
       "       [0.751, 0.489],\n",
       "       [0.532, 0.472],\n",
       "       [0.473, 0.376],\n",
       "       [0.725, 0.445],\n",
       "       [0.446, 0.459]])"
      ]
     },
     "execution_count": 3,
     "metadata": {},
     "output_type": "execute_result"
    }
   ],
   "source": [
    "# data数据展示\n",
    "data"
   ]
  },
  {
   "cell_type": "code",
   "execution_count": 4,
   "metadata": {},
   "outputs": [],
   "source": [
    "# 计算某一聚类中中所有样本与样本中心的的欧氏距离的平方\n",
    "def distance(data, center):\n",
    "    '''\n",
    "    input:data:\n",
    "          center:样本中心向量\n",
    "          data:某一聚类中中所有样本数据集(这里也可以是单个向量)\n",
    "    output:distance(float):欧氏距离平方\n",
    "    '''   \n",
    "    if data.shape != center.shape:\n",
    "        return np.sum((data - np.tile(center, (data.shape[0], 1))) * (data - np.tile(center, (data.shape[0], 1))), axis=1)\n",
    "    else:\n",
    "        return np.sum((data - center) * (data - center), axis=-1)"
   ]
  },
  {
   "cell_type": "code",
   "execution_count": 5,
   "metadata": {},
   "outputs": [],
   "source": [
    "class Kmeans():\n",
    "    \"\"\"\n",
    "    Parameters:\n",
    "    k: 聚类的数目，默认为2\n",
    "    max_iterations: int\n",
    "        最大迭代次数.\n",
    "    edge: float\n",
    "        判断是否收敛, 如果上一次的所有k个聚类中心与本次的所有k个聚类中心的差都小于edge,\n",
    "        则说明算法已经收敛\n",
    "    flag:是否采用kmeans++算法优化初始值选取\n",
    "    \"\"\"\n",
    "\n",
    "    def __init__(self, k=2, max_iterations=500, edge=0.0001, flag=False):\n",
    "        self.k = k\n",
    "        self.max_iterations = max_iterations\n",
    "        self.edge = edge\n",
    "        self.ans = {}  # 分类结果\n",
    "        self.cnt = 1\n",
    "        self.centers = None   # 聚类中心集\n",
    "        self.flag = flag     # 是否采用kmeans++算法优化\n",
    "\n",
    "    # 从所有样本中随机选取self.k样本作为初始的聚类中心\n",
    "    def init_centers(self, dataset):\n",
    "        '''\n",
    "       input:dataset:样本数据集\n",
    "       output:centers:聚类中心的数据集\n",
    "       '''\n",
    "        dataset_nums = dataset.shape[0]  # 样本的数目\n",
    "        centers = dataset[np.random.choice(np.arange(dataset_nums), self.k, replace=False)]   # 初始化聚类中心\n",
    "        return centers\n",
    "    \n",
    "    \n",
    "    # 优化版选取初始值（kmeans++)\n",
    "    def init_centersplus(self, dataset):\n",
    "        '''\n",
    "        input:dataset:样本数据集\n",
    "        output:centers:聚类中心的数据集\n",
    "        '''\n",
    "        centers = []        # 聚类中心的数据集,最后会转化为ndarray\n",
    "        dataset_nums = dataset.shape[0]       # 得到数据个数\n",
    "        center = dataset[np.random.choice(dataset.shape[0], 1)][0]   # 随机得到一个数据集\n",
    "        centers.append(center)                      # 加到聚类中心列表中\n",
    "        for i in range(self.k - 1):\n",
    "            min_dist = [np.min(distance(np.array(centers, dtype=object), sing_data))  for sing_data in dataset] # 得到每一个样本到聚点中心的最短距离(这里的距离是距离的平方)\n",
    "            sum_dist = sum(min_dist)  # 得到总和\n",
    "            p_dist = np.array(min_dist, dtype='float') / sum_dist  # 得到每一个的概率\n",
    "            index = np.random.choice(range(dataset_nums), p=p_dist.ravel())  # 按照p_dist中的概率选出新聚类中心索引\n",
    "            centers.append(dataset[index])  # 加到聚类中心集中\n",
    "            \n",
    "        return np.array(centers, dtype=object)  # 返回初始化结果\n",
    "        \n",
    "    \n",
    "    # 分类求在某聚类中心下每个点的分类\n",
    "    def sort_class(self, centers, dataset):\n",
    "        '''\n",
    "        input:dataset:样本数据集\n",
    "         centers:聚类中心的数据集\n",
    "        output:每个样本的分类向量集\n",
    "        '''\n",
    "        dist = [distance(dataset, center) for center in centers]  # 用来装样本中每个点到各个聚类中心的距离\n",
    "        dist_sort = np.argsort(dist, axis=0)  # 将其排序得到索引，此时dist_sort[0]就是每一个样本的分类类别\n",
    "        dist_sorted = dist_sort[0]  # 每一个样本的分类类别向量集，向量里第i个元素的值j正好是第i个样本的种类类别j\n",
    "        return dist_sorted\n",
    "\n",
    "\n",
    "    # 计算聚类中心集合\n",
    "    def cal_centers(self, dataset, dist_sorted):\n",
    "        '''\n",
    "        input:dataset:数据样本\n",
    "        dist_sorted:每一个样本的分类类别向量集，每个向量里的值都是在dataset中的索引\n",
    "        output:centers:数据样本聚类中心集合\n",
    "        '''\n",
    "        for i in range(self.k):\n",
    "            self.ans[i] = []\n",
    "        for i, vary in enumerate(dist_sorted):\n",
    "            self.ans[vary].append(i)                # 更新每一个样本的分类\n",
    "        \n",
    "        return [np.sum(dataset[self.ans[i]], axis=0) / dataset[self.ans[i]].shape[0] for i in range(self.k) ]  # centers聚类中心集合\n",
    "\n",
    "\n",
    "\n",
    "\n",
    "    # 判断是否收敛\n",
    "    def judge_end(self, old_centers, centers):\n",
    "        '''\n",
    "        input:centers:新聚类中心集合\n",
    "        old_centers:旧聚类中心集合\n",
    "        output:True or False\n",
    "        '''\n",
    "        if self.cnt == 1:\n",
    "            return False\n",
    "        for old_center, center in zip(old_centers, centers):\n",
    "            if np.sum(np.absolute(old_center - center)) > self.edge:\n",
    "                return False\n",
    "        return True\n",
    "\n",
    "\n",
    "\n",
    "    # 预测分类聚类函数\n",
    "    def predict(self, dataset):\n",
    "        if self.flag == False:                   # 是否采用kmeans算法优化\n",
    "            centers = self.init_centers(dataset)  # 初始化得聚类中心\n",
    "        else:\n",
    "            centers = self.init_centersplus(dataset)  # 初始化得聚类中心\n",
    "#         print(centers)\n",
    "        old_centers = None  # 旧的聚类中心\n",
    "        \n",
    "        while self.judge_end(old_centers, centers) == False and self.cnt <= self.max_iterations:   # 如果未到截止条件\n",
    "            dist_sorted = self.sort_class(centers, dataset)    # 获得每一个样本的分类的矩阵\n",
    "            old_centers = centers[::]                         # 旧的聚类中心的数组矩阵\n",
    "            centers = self.cal_centers(dataset, dist_sorted)   # 新的聚类矩阵\n",
    "            self.cnt += 1                               # 记录次数\n",
    "        self.centers = centers                          # 记录聚类中心的数组矩阵\n",
    "        return self.ans                                # 返回分类的字典，字典的键是每一类（0、1……k)，值是样本在dataset数据集中的索引"
   ]
  },
  {
   "cell_type": "code",
   "execution_count": 12,
   "metadata": {
    "scrolled": true
   },
   "outputs": [
    {
     "name": "stdout",
     "output_type": "stream",
     "text": [
      "6\n",
      "[array([0.66971429, 0.13114286]), array([0.30183333, 0.18483333]), array([0.7322, 0.4232]), array([0.44033333, 0.199     ]), array([0.469     , 0.41383333]), array([0.57025, 0.27725])]\n",
      "{0: [7, 9, 13, 14, 16, 17, 21], 1: [10, 11, 12, 18, 19, 20], 2: [0, 1, 22, 26, 29], 3: [5, 6, 8], 4: [15, 24, 25, 27, 28, 30], 5: [2, 3, 4, 23]}\n"
     ]
    }
   ],
   "source": [
    "# 模型训练\n",
    "\n",
    "k = int(input())\n",
    "# centers = np.zeros((k, data.shape[-1]))\n",
    "\n",
    "A = Kmeans(k=k, flag=True)\n",
    "ans = A.predict(data)\n",
    "centers = A.centers\n",
    "print(centers)\n",
    "print(A.ans)\n",
    "# centers = centers / 3\n",
    "# centers = A.init_centers(data)\n",
    "# print(centers)\n",
    "# dist_sorted = A.sort_class(centers, data)\n",
    "# print(dist_sorted)\n",
    "# centers = A.cal_centers(data, dist_sorted)\n",
    "# print(centers)\n",
    "# print(ans)     \n",
    "# for k, v in ans:\n",
    "#     print(k, v)\n"
   ]
  },
  {
   "cell_type": "code",
   "execution_count": 13,
   "metadata": {},
   "outputs": [
    {
     "data": {
      "image/png": "[encoded data removed]",
      "text/plain": [
       "<Figure size 432x288 with 1 Axes>"
      ]
     },
     "metadata": {
      "needs_background": "light"
     },
     "output_type": "display_data"
    }
   ],
   "source": [
    "# 画图\n",
    "# for i in data:\n",
    "#     plt.plot(i[0], i[1])\n",
    "color = ['y', 'g', 'r', 'c', 'b']\n",
    "\n",
    "# for i in range(k):\n",
    "#     plt.plot(data[ans[i]][:, 0], data[ans[i]][:, 0], 'oc', markersize=0.8)\n",
    "# for sing_data in data:\n",
    "#     plt.plot(sing_data[0], sing_data[1], 'oc', markersize=0.8, c = 'y')\n",
    "for i in range(k):            # 每一类的矩阵使用不同的颜色描述\n",
    "    c = color[i % 5]\n",
    "    for sing_data in data[ans[i]]:\n",
    "        plt.plot(sing_data[0], sing_data[1], 'oc', markersize=0.8, c = c)\n",
    "\n",
    "\n",
    "\n",
    "for center in centers:                              # 聚类中心使用红色五角星表示\n",
    "    plt.plot(center[0], center[1], 'r*', markersize=16)\n",
    "plt.title('Kmeans')\n",
    "plt.box(False)\n",
    "# xticks([])\n",
    "# yticks([])\n",
    "plt.show()"
   ]
  },
  {
   "cell_type": "code",
   "execution_count": 18,
   "metadata": {},
   "outputs": [
    {
     "name": "stdout",
     "output_type": "stream",
     "text": [
      "50\n"
     ]
    },
    {
     "data": {
      "image/png": "[encoded data removed]",
      "text/plain": [
       "<Figure size 432x288 with 1 Axes>"
      ]
     },
     "metadata": {
      "needs_background": "light"
     },
     "output_type": "display_data"
    },
    {
     "name": "stdout",
     "output_type": "stream",
     "text": [
      "[(2, 0.03913960949004722), (3, 0.0355746407870541), (4, 0.03324269915025948), (5, 0.03203079366229477), (6, 0.030918530736257343), (7, 0.03017276264282156), (8, 0.02898211246036134), (9, 0.02783501997309937), (10, 0.026458239612649335), (11, 0.025519136214280893), (12, 0.023992055213128204), (13, 0.02232272503733381), (14, 0.02051619811563098), (15, 0.019265795183059556)]\n",
      "[(2, 0.039802217119160384), (3, 0.03576233679728791), (4, 0.03326534128095157), (5, 0.03310547247185763), (6, 0.03129485063175635), (7, 0.030706840662028303), (8, 0.029540210024705166), (9, 0.02844110564188637), (10, 0.027376712251312628), (11, 0.026115408078290304), (12, 0.024809910533129198), (13, 0.0235164087335516), (14, 0.022083576031826008), (15, 0.021095213808312606)]\n"
     ]
    }
   ],
   "source": [
    "# 测试性能(不同K值)\n",
    "\n",
    "n = int(input())      # 重复训练次数\n",
    "k = 15\n",
    "x = list(range(2, k + 1))\n",
    "y = []\n",
    "yy = []\n",
    "# centers = np.zeros((k, data.shape[-1]))\n",
    "for k in range(2, k + 1):\n",
    "    test_sum = 0.0\n",
    "    for i in range(n):\n",
    "        A = Kmeans(k=k, flag=True)\n",
    "        ans = A.predict(data)\n",
    "        centers = A.centers\n",
    "    #     print(centers)\n",
    "    #     print(A.ans)\n",
    "\n",
    "\n",
    "\n",
    "        test = 0.0\n",
    "        for i in range(k):\n",
    "            test += sum(distance(data[ans[i]], centers[i]))**0.5\n",
    "        \n",
    "        test_sum += test / data.shape[0]         # 平均距离平方和\n",
    "        #     print(test)\n",
    "    \n",
    "    y.append(test_sum / n)            \n",
    "\n",
    "for k in range(2, k + 1):\n",
    "    test_sum = 0.0\n",
    "    for i in range(n):\n",
    "        A = Kmeans(k=k, flag=False)\n",
    "        ans = A.predict(data)\n",
    "        centers = A.centers\n",
    "    #     print(centers)\n",
    "    #     print(A.ans)\n",
    "\n",
    "\n",
    "\n",
    "        test = 0.0\n",
    "        for i in range(k):\n",
    "            test += sum(distance(data[ans[i]], centers[i]))**0.5\n",
    "        \n",
    "        test_sum += test / data.shape[0]         # 平均距离平方和\n",
    "        #     print(test)\n",
    "    \n",
    "    yy.append(test_sum / n) \n",
    "    \n",
    "\n",
    "\n",
    "plt.figure('the kmeans about k')\n",
    "plt.title('Graph about k red->kmeans blue->kmeans++')\n",
    "plt.box(False)\n",
    "ax = plt.gca()\n",
    "ax.set_xlabel('k')\n",
    "ax.set_ylabel('loss')  #设置x轴、y轴名称\n",
    "plt.plot(x, y, color='b', linewidth=1, alpha=0.6)\n",
    "plt.plot(x, yy, color='r', linewidth=1, alpha=0.6)\n",
    "plt.show()\n",
    "# test\n",
    "print(list(zip(x, y)))\n",
    "print(list(zip(x, yy)))"
   ]
  },
  {
   "cell_type": "code",
   "execution_count": null,
   "metadata": {},
   "outputs": [],
   "source": []
  },
  {
   "cell_type": "code",
   "execution_count": null,
   "metadata": {},
   "outputs": [],
   "source": []
  }
 ],
 "metadata": {
  "kernelspec": {
   "display_name": "Python [conda env:pytorch_cpu]",
   "language": "python",
   "name": "conda-env-pytorch_cpu-py"
  },
  "language_info": {
   "codemirror_mode": {
    "name": "ipython",
    "version": 3
   },
   "file_extension": ".py",
   "mimetype": "text/x-python",
   "name": "python",
   "nbconvert_exporter": "python",
   "pygments_lexer": "ipython3",
   "version": "3.8.8"
  }
 },
 "nbformat": 4,
 "nbformat_minor": 4
}
